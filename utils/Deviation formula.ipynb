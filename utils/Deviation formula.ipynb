{
 "cells": [
  {
   "cell_type": "code",
   "id": "initial_id",
   "metadata": {
    "collapsed": true,
    "ExecuteTime": {
     "end_time": "2025-05-09T17:38:35.978981Z",
     "start_time": "2025-05-09T17:38:35.419258Z"
    }
   },
   "source": [
    "import numpy as np\n",
    "import csv\n",
    "from IPython.display import display, Math\n",
    "\n",
    "from scipy.optimize import minimize\n",
    "\n",
    "from matplotlib import pyplot as plt\n",
    "\n",
    "from libration_sense import *\n",
    "from daceypy import DA\n",
    "\n",
    "import matplotlib.pyplot as plt\n",
    "\n",
    "\"\"\"функция по формуле Маркова-Гаусса вычисляет оптимальное значение коэффициентов в МНК\n",
    "\n",
    "    Returns:\n",
    "        tuple: (alpha_star, rmin_max) - коэффициенты и параметр нормировки на единицу для восстановления размерной формулы\n",
    "    \"\"\"\n",
    "\n",
    "def alpha_finder(n: float, orbit_type: str,\n",
    "                 number_of_orbit: int,\n",
    "                 xf: DA,\n",
    "                 grid_density: int = 5,\n",
    "                 number_of_halo_point: int | None = None) -> tuple:\n",
    "    # Создаем сетку значений\n",
    "    std_pos_values = np.linspace(0, km2du(8), grid_density)  # от 0 до 8 км\n",
    "    std_vel_values = np.linspace(0, kmS2vu(0.05e-3), grid_density)  # от 0 до 0.05 м / с\n",
    "\n",
    "    # Данные для нормировки\n",
    "    pos_max = np.max(std_pos_values)\n",
    "    vel_max = np.max(std_vel_values)\n",
    "\n",
    "    # Генерируем матрицу A и вектор y\n",
    "    N = grid_density**2\n",
    "    A = np.zeros((N, 2))\n",
    "    y = np.zeros(N)\n",
    "\n",
    "    # Заполняем нормированную матрицу A и вектор y\n",
    "    index = 0\n",
    "    for std_pos in std_pos_values:\n",
    "        for std_vel in std_vel_values:\n",
    "            A[index] = [std_pos / pos_max, std_vel / vel_max]\n",
    "            y[index] = get_maxdeviation_wo_integrate(orbit_type, number_of_orbit, xf, std_pos, std_vel, number_of_halo_point=number_of_halo_point)\n",
    "            index += 1\n",
    "\n",
    "    deviation_max = np.max(y)\n",
    "\n",
    "    y_normed = y / deviation_max\n",
    "    y_powered = np.power(y_normed, n)\n",
    "    A_powered = np.power(A, n)\n",
    "    alpha_star = np.linalg.inv(A_powered.T @ A_powered) @ A_powered.T @ y_powered\n",
    "\n",
    "    return alpha_star, deviation_max\n",
    "\n",
    "def alpha_finder_of_n(A_normed, y, n):\n",
    "    rmin_max = np.max(y)\n",
    "    y_normed = y / rmin_max\n",
    "    y_powered = np.power(y_normed, n)\n",
    "    A_powered = np.power(A_normed, n)\n",
    "    return np.linalg.inv(A_powered.T @ A_powered) @ A_powered.T @ y_powered, rmin_max\n",
    "\n",
    "\n",
    "def n_finder(orbit_type: str,\n",
    "             number_of_orbit: int,\n",
    "             xfinal: DA,\n",
    "             grid_density: int = 5,\n",
    "             number_of_halo_point: int | None = None) -> float:\n",
    "    \"\"\"оптимизация функционала J2 по n\n",
    "\n",
    "    Args:\n",
    "        orbit (np.ndarray): [a, e, i, omega, Omega]\n",
    "        xfinal (DA): конечная точка в TBP\n",
    "        m (int, optional): размер (плотность) сетки значений навигационных неточностей\n",
    "\n",
    "    Returns:\n",
    "        float: степень в формуле для d\n",
    "    \"\"\"\n",
    "    std_pos_values = np.linspace(0, km2du(3), grid_density)  # от 0 до 8 км\n",
    "    std_vel_values = np.linspace(0, kmS2vu(0.03e-3), grid_density)  # от 0 до 0.05 м / с\n",
    "\n",
    "    # Генерируем матрицу A и вектор y\n",
    "    N = grid_density**2\n",
    "    A = np.zeros((N, 2))\n",
    "    y_du = np.zeros(N)\n",
    "\n",
    "\n",
    "    pos_max = np.max(std_pos_values)\n",
    "    vel_max = np.max(std_vel_values)\n",
    "\n",
    "    # Заполняем A и y\n",
    "    index = 0\n",
    "    for std_pos in std_pos_values:\n",
    "        for std_vel in std_vel_values:\n",
    "            A[index] = [std_pos / pos_max, std_vel / vel_max]\n",
    "            y_du[index] = get_maxdeviation_wo_integrate(orbit_type, number_of_orbit, xfinal, std_pos, std_vel, amount_of_points=11000, number_of_halo_point=number_of_halo_point)\n",
    "            index += 1\n",
    "        print('col done')\n",
    "\n",
    "    # print(\"Массив данных заполнен\")\n",
    "\n",
    "    y_normed = y_du / np.max(y_du)\n",
    "    A_normed_du_and_vu = A\n",
    "\n",
    "    def loss(n):\n",
    "        y_powered = np.power(y_normed, n)\n",
    "        A_powered = np.power(A, n)\n",
    "        alpha_star = np.linalg.inv(A_powered.T @ A_powered) @ A_powered.T @ y_powered\n",
    "        core = np.power(y_powered - np.dot(A_powered, alpha_star), 2)\n",
    "        return np.sum(core) / np.shape(y_powered)[0]\n",
    "\n",
    "    _x = np.linspace(0.0001, 5, 200)\n",
    "    plt.plot(_x, [loss(x) for x in _x])\n",
    "    plt.show()\n",
    "\n",
    "    # Ограничения на n\n",
    "    bounds = [(0.000001, None)]\n",
    "\n",
    "    # Начальное приближение\n",
    "    n_initial = 2.1\n",
    "\n",
    "    # Метод сопряжённых направлений\n",
    "    n_opt = minimize(loss, n_initial, method='Powell', bounds=bounds)\n",
    "\n",
    "    return n_opt.x[0], A_normed_du_and_vu, y_du"
   ],
   "outputs": [],
   "execution_count": 1
  },
  {
   "metadata": {
    "ExecuteTime": {
     "end_time": "2025-05-09T17:38:36.000355Z",
     "start_time": "2025-05-09T17:38:35.997750Z"
    }
   },
   "cell_type": "code",
   "source": [
    "number_of_halo_point = 600\n",
    "orbit_type = 'L1'\n",
    "orbit_number = 110"
   ],
   "id": "a6fc1137feb39989",
   "outputs": [],
   "execution_count": 2
  },
  {
   "metadata": {
    "ExecuteTime": {
     "end_time": "2025-05-09T17:59:54.984463Z",
     "start_time": "2025-05-09T17:38:36.072162Z"
    }
   },
   "cell_type": "code",
   "source": [
    "xfinal = get_xf(orbit_type, orbit_number, number_of_halo_point=number_of_halo_point)\n",
    "n, A_normed, y_du = n_finder(orbit_type, orbit_number, xfinal, grid_density=21, number_of_halo_point=number_of_halo_point)\n",
    "print('Степень n = ', n, sep='')\n",
    "alpha, deviation_max = alpha_finder_of_n(A_normed, y_du, n)"
   ],
   "id": "9b2946f052cab783",
   "outputs": [
    {
     "name": "stdout",
     "output_type": "stream",
     "text": [
      "[ 0.89722442 -0.07415238 -0.05127859 -0.04736271 -0.20523854  0.16522684]\n",
      "IS:  daceypy.array\n",
      "T:  <class 'numpy.float64'>\n",
      "col done\n",
      "col done\n",
      "col done\n",
      "col done\n",
      "col done\n",
      "col done\n",
      "col done\n",
      "col done\n",
      "col done\n",
      "col done\n",
      "col done\n",
      "col done\n",
      "col done\n",
      "col done\n",
      "col done\n",
      "col done\n",
      "col done\n",
      "col done\n",
      "col done\n",
      "col done\n",
      "col done\n"
     ]
    },
    {
     "data": {
      "text/plain": [
       "<Figure size 640x480 with 1 Axes>"
      ],
      "image/png": "[encoded data removed]"
     },
     "metadata": {},
     "output_type": "display_data"
    },
    {
     "name": "stdout",
     "output_type": "stream",
     "text": [
      "Степень n = 1.707710662347576\n"
     ]
    }
   ],
   "execution_count": 3
  },
  {
   "metadata": {
    "ExecuteTime": {
     "end_time": "2025-05-09T18:08:51.037707Z",
     "start_time": "2025-05-09T18:08:48.156261Z"
    }
   },
   "cell_type": "code",
   "source": [
    "n=2\n",
    "alpha, deviation_max = alpha_finder_of_n(A_normed, y_du, n)\n",
    "def deviation_analytic(n, alpha, std_pos_normed, std_vel_normed):\n",
    "    return np.power(alpha[0]*np.power(std_pos_normed, n) + alpha[1]*np.power(std_vel_normed, n), 1/n)\n",
    "\n",
    "formula = f\"d = \\\\sqrt[{np.around(n, 4)}]{{{np.around(alpha[0], 2)}\\\\cdot \\\\sigma_{{pos}}^{{{np.around(n, 4)}}} + {np.around(alpha[1], 2)}\\\\cdot \\\\sigma_{{vel}}^{{{np.around(n, 4)}}}}}\\\\cdot{np.around(du2km(deviation_max), 3)} \\\\ [km]\"\n",
    "\n",
    "std_pos, std_vel = km2du(1.98), kmS2vu(0.019e-3)\n",
    "std_pos_max, std_vel_max = km2du(3), kmS2vu(0.03e-3)\n",
    "\n",
    "np.random.seed(42)\n",
    "print(f\"Пробная точка: [sigma_pos = {np.around(du2km(std_pos), 1)} км, sigma_vel = {vu2kms(std_vel)*1000} м/с]\")\n",
    "print(f\"Крайние значения данных: [sigma_pos_max = {3} км, sigma_vel_max = {0.03} м/с]\")\n",
    "print('Точное значение: ', du2km(get_maxdeviation_wo_integrate(orbit_type, orbit_number, xfinal, std_pos, std_vel, amount_of_points=11000, number_of_halo_point=number_of_halo_point)))\n",
    "print('Значение, вычисленное по аппроксимирующей формуле: ', deviation_analytic(n, alpha, std_pos/std_pos_max, std_vel/std_vel_max) * du2km(deviation_max))\n",
    "display(Math(formula))"
   ],
   "id": "7afd3198cd3183e3",
   "outputs": [
    {
     "name": "stdout",
     "output_type": "stream",
     "text": [
      "Пробная точка: [sigma_pos = 2.0 км, sigma_vel = 0.019 м/с]\n",
      "Крайние значения данных: [sigma_pos_max = 3 км, sigma_vel_max = 0.03 м/с]\n",
      "Точное значение:  6078.924499238626\n",
      "Значение, вычисленное по аппроксимирующей формуле:  6254.164111010246\n"
     ]
    },
    {
     "data": {
      "text/plain": [
       "<IPython.core.display.Math object>"
      ],
      "text/latex": "$\\displaystyle d = \\sqrt[2]{0.36\\cdot \\sigma_{pos}^{2} + 0.49\\cdot \\sigma_{vel}^{2}}\\cdot10499.683 \\ [km]$"
     },
     "metadata": {},
     "output_type": "display_data"
    }
   ],
   "execution_count": 8
  },
  {
   "metadata": {
    "ExecuteTime": {
     "end_time": "2025-05-09T17:59:57.960697Z",
     "start_time": "2025-05-09T17:59:57.958199Z"
    }
   },
   "cell_type": "code",
   "source": "",
   "id": "1a80dfb3b4bc9b47",
   "outputs": [],
   "execution_count": null
  }
 ],
 "metadata": {
  "kernelspec": {
   "display_name": "Python 3",
   "language": "python",
   "name": "python3"
  },
  "language_info": {
   "codemirror_mode": {
    "name": "ipython",
    "version": 2
   },
   "file_extension": ".py",
   "mimetype": "text/x-python",
   "name": "python",
   "nbconvert_exporter": "python",
   "pygments_lexer": "ipython2",
   "version": "2.7.6"
  }
 },
 "nbformat": 4,
 "nbformat_minor": 5
}
